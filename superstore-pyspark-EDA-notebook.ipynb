{
 "cells": [
  {
   "cell_type": "code",
   "execution_count": 0,
   "metadata": {
    "application/vnd.databricks.v1+cell": {
     "cellMetadata": {
      "byteLimit": 2048000,
      "rowLimit": 10000
     },
     "inputWidgets": {},
     "nuid": "8a26c3ec-c4ed-475e-8bd9-7c92b208002e",
     "showTitle": false,
     "tableResultSettingsMap": {},
     "title": ""
    }
   },
   "outputs": [
    {
     "output_type": "execute_result",
     "data": {
      "text/html": [
       "\n",
       "            <div>\n",
       "                <p><b>SparkSession - hive</b></p>\n",
       "                \n",
       "        <div>\n",
       "            <p><b>SparkContext</b></p>\n",
       "\n",
       "            <p><a href=\"/?o=1449073579402538#setting/sparkui/1025-024307-3l0j2773/driver-6058256227729112917\">Spark UI</a></p>\n",
       "\n",
       "            <dl>\n",
       "              <dt>Version</dt>\n",
       "                <dd><code>v3.5.0</code></dd>\n",
       "              <dt>Master</dt>\n",
       "                <dd><code>local[*, 4]</code></dd>\n",
       "              <dt>AppName</dt>\n",
       "                <dd><code>Databricks Shell</code></dd>\n",
       "            </dl>\n",
       "        </div>\n",
       "        \n",
       "            </div>\n",
       "        "
      ],
      "text/plain": [
       "<pyspark.sql.session.SparkSession at 0x7fd421cdb850>"
      ]
     },
     "execution_count": 1,
     "metadata": {},
     "output_type": "execute_result"
    }
   ],
   "source": [
    "spark"
   ]
  },
  {
   "cell_type": "code",
   "execution_count": 0,
   "metadata": {
    "application/vnd.databricks.v1+cell": {
     "cellMetadata": {
      "byteLimit": 2048000,
      "rowLimit": 10000
     },
     "inputWidgets": {},
     "nuid": "303d2f4b-fac4-480a-b72b-8df8e1ea837b",
     "showTitle": false,
     "tableResultSettingsMap": {},
     "title": ""
    }
   },
   "outputs": [],
   "source": [
    "# prepare csv file url and container access details\n",
    "\n",
    "storage_account_key = \"vAh0MYzXTTOUynsGtdwk6AFZT+0dNPazQiueINdLM2hyZY+cjJQNMmaawILe0DSKB01YmGf85Ma1+AStxBfsqw==\"\n",
    "\n",
    "storage_account = \"myfirstblobstoragesample\"\n",
    "container_name = \"databrickssample\"\n",
    "file_name = \"super_store.csv\"\n",
    "\n",
    "csv_file_url = f\"wasbs://{container_name}@{storage_account}.blob.core.windows.net/{file_name}\"\n",
    "\n",
    "# Set up the Spark configuration for Azure Blob Storage\n",
    "spark.conf.set(\n",
    "    f\"fs.azure.account.key.{storage_account}.blob.core.windows.net\",\n",
    "    storage_account_key\n",
    ")"
   ]
  },
  {
   "cell_type": "code",
   "execution_count": 0,
   "metadata": {
    "application/vnd.databricks.v1+cell": {
     "cellMetadata": {
      "byteLimit": 2048000,
      "rowLimit": 10000
     },
     "inputWidgets": {},
     "nuid": "01412d61-8f56-42d6-806a-d077ae85caf4",
     "showTitle": false,
     "tableResultSettingsMap": {},
     "title": ""
    }
   },
   "outputs": [],
   "source": [
    "# read CSV file and load it in to dataframe\n",
    "csvDF = spark.read.csv(csv_file_url, header=True, inferSchema=True)"
   ]
  },
  {
   "cell_type": "code",
   "execution_count": 0,
   "metadata": {
    "application/vnd.databricks.v1+cell": {
     "cellMetadata": {
      "byteLimit": 2048000,
      "rowLimit": 10000
     },
     "inputWidgets": {},
     "nuid": "ccb5ddb1-eb68-4524-b48e-998d7bad76e2",
     "showTitle": false,
     "tableResultSettingsMap": {},
     "title": ""
    }
   },
   "outputs": [
    {
     "output_type": "stream",
     "name": "stdout",
     "output_type": "stream",
     "text": [
      "-RECORD 0-------------------------------------------------------------------\n RowID        | 1                                                           \n OrderID      | CA-2016-152156                                              \n OrderDate    | 2016-11-08                                                  \n ShipDate     | 2016-11-11                                                  \n ShipMode     | Second Class                                                \n CustomerID   | CG-12520                                                    \n CustomerName | Claire Gute                                                 \n Segment      | Consumer                                                    \n Country      | United States                                               \n City         | Henderson                                                   \n State        | Kentucky                                                    \n Postal Code  | 42420                                                       \n Region       | South                                                       \n Product ID   | FUR-BO-10001798                                             \n Category     | Furniture                                                   \n SubCategory  | Bookcases                                                   \n ProductName  | Bush Somerset Collection Bookcase                           \n Sales        | 261.96                                                      \n Quantity     | 2                                                           \n Discount     | 0                                                           \n Profit       | 41.9136                                                     \n-RECORD 1-------------------------------------------------------------------\n RowID        | 2                                                           \n OrderID      | CA-2016-152156                                              \n OrderDate    | 2016-11-08                                                  \n ShipDate     | 2016-11-11                                                  \n ShipMode     | Second Class                                                \n CustomerID   | CG-12520                                                    \n CustomerName | Claire Gute                                                 \n Segment      | Consumer                                                    \n Country      | United States                                               \n City         | Henderson                                                   \n State        | Kentucky                                                    \n Postal Code  | 42420                                                       \n Region       | South                                                       \n Product ID   | FUR-CH-10000454                                             \n Category     | Furniture                                                   \n SubCategory  | Chairs                                                      \n ProductName  | Hon Deluxe Fabric Upholstered Stacking Chairs, Rounded Back \n Sales        | 731.94                                                      \n Quantity     | 3                                                           \n Discount     | 0                                                           \n Profit       | 219.582                                                     \n-RECORD 2-------------------------------------------------------------------\n RowID        | 3                                                           \n OrderID      | CA-2016-138688                                              \n OrderDate    | 2016-06-12                                                  \n ShipDate     | 2016-06-16                                                  \n ShipMode     | Second Class                                                \n CustomerID   | DV-13045                                                    \n CustomerName | Darrin Van Huff                                             \n Segment      | Corporate                                                   \n Country      | United States                                               \n City         | Los Angeles                                                 \n State        | California                                                  \n Postal Code  | 90036                                                       \n Region       | West                                                        \n Product ID   | OFF-LA-10000240                                             \n Category     | Office Supplies                                             \n SubCategory  | Labels                                                      \n ProductName  | Self-Adhesive Address Labels for Typewriters by Universal   \n Sales        | 14.62                                                       \n Quantity     | 2                                                           \n Discount     | 0                                                           \n Profit       | 6.8714                                                      \n-RECORD 3-------------------------------------------------------------------\n RowID        | 4                                                           \n OrderID      | US-2015-108966                                              \n OrderDate    | 2015-10-11                                                  \n ShipDate     | 2015-10-18                                                  \n ShipMode     | Standard Class                                              \n CustomerID   | SO-20335                                                    \n CustomerName | Sean O'Donnell                                              \n Segment      | Consumer                                                    \n Country      | United States                                               \n City         | Fort Lauderdale                                             \n State        | Florida                                                     \n Postal Code  | 33311                                                       \n Region       | South                                                       \n Product ID   | FUR-TA-10000577                                             \n Category     | Furniture                                                   \n SubCategory  | Tables                                                      \n ProductName  | Bretford CR4500 Series Slim Rectangular Table               \n Sales        | 957.5775                                                    \n Quantity     | 5                                                           \n Discount     | 0.45                                                        \n Profit       | -383.031                                                    \n-RECORD 4-------------------------------------------------------------------\n RowID        | 5                                                           \n OrderID      | US-2015-108966                                              \n OrderDate    | 2015-10-11                                                  \n ShipDate     | 2015-10-18                                                  \n ShipMode     | Standard Class                                              \n CustomerID   | SO-20335                                                    \n CustomerName | Sean O'Donnell                                              \n Segment      | Consumer                                                    \n Country      | United States                                               \n City         | Fort Lauderdale                                             \n State        | Florida                                                     \n Postal Code  | 33311                                                       \n Region       | South                                                       \n Product ID   | OFF-ST-10000760                                             \n Category     | Office Supplies                                             \n SubCategory  | Storage                                                     \n ProductName  | Eldon Fold 'N Roll Cart System                              \n Sales        | 22.368                                                      \n Quantity     | 2                                                           \n Discount     | 0.2                                                         \n Profit       | 2.5164                                                      \nonly showing top 5 rows\n\n"
     ]
    }
   ],
   "source": [
    "# show above dataframe\n",
    "csvDF.show(5, truncate=False, vertical=True)"
   ]
  },
  {
   "cell_type": "code",
   "execution_count": 0,
   "metadata": {
    "application/vnd.databricks.v1+cell": {
     "cellMetadata": {
      "byteLimit": 2048000,
      "rowLimit": 10000
     },
     "inputWidgets": {},
     "nuid": "e8cb52e2-b5e8-4ea5-a46a-31eabc56f4c3",
     "showTitle": false,
     "tableResultSettingsMap": {},
     "title": ""
    }
   },
   "outputs": [
    {
     "output_type": "stream",
     "name": "stdout",
     "output_type": "stream",
     "text": [
      "root\n |-- RowID: integer (nullable = true)\n |-- OrderID: string (nullable = true)\n |-- OrderDate: date (nullable = true)\n |-- ShipDate: date (nullable = true)\n |-- ShipMode: string (nullable = true)\n |-- CustomerID: string (nullable = true)\n |-- CustomerName: string (nullable = true)\n |-- Segment: string (nullable = true)\n |-- Country: string (nullable = true)\n |-- City: string (nullable = true)\n |-- State: string (nullable = true)\n |-- Postal Code: integer (nullable = true)\n |-- Region: string (nullable = true)\n |-- Product ID: string (nullable = true)\n |-- Category: string (nullable = true)\n |-- SubCategory: string (nullable = true)\n |-- ProductName: string (nullable = true)\n |-- Sales: string (nullable = true)\n |-- Quantity: string (nullable = true)\n |-- Discount: string (nullable = true)\n |-- Profit: double (nullable = true)\n\n"
     ]
    }
   ],
   "source": [
    "csvDF.printSchema()"
   ]
  },
  {
   "cell_type": "code",
   "execution_count": 0,
   "metadata": {
    "application/vnd.databricks.v1+cell": {
     "cellMetadata": {
      "byteLimit": 2048000,
      "rowLimit": 10000
     },
     "inputWidgets": {},
     "nuid": "e55b9687-40f2-44f4-9dc8-38230cac56cb",
     "showTitle": false,
     "tableResultSettingsMap": {},
     "title": ""
    }
   },
   "outputs": [],
   "source": [
    "# change datatype for : Sales - double, Quantity - integer, Discount - float\n",
    "\n",
    "from pyspark.sql import functions as F\n",
    "from pyspark.sql.types import *\n",
    "\n",
    "updatedDF = csvDF.withColumn(\"Sales\", F.col(\"Sales\").cast(DoubleType())) \\\n",
    ".withColumn(\"Quantity\", F.col(\"Quantity\").cast(IntegerType())) \\\n",
    ".withColumn(\"Discount\", F.col(\"Discount\").cast(FloatType()))"
   ]
  },
  {
   "cell_type": "code",
   "execution_count": 0,
   "metadata": {
    "application/vnd.databricks.v1+cell": {
     "cellMetadata": {
      "byteLimit": 2048000,
      "rowLimit": 10000
     },
     "inputWidgets": {},
     "nuid": "1bf92ef7-981c-4b28-8727-d2f829bd919b",
     "showTitle": false,
     "tableResultSettingsMap": {},
     "title": ""
    }
   },
   "outputs": [
    {
     "output_type": "stream",
     "name": "stdout",
     "output_type": "stream",
     "text": [
      "root\n |-- RowID: integer (nullable = true)\n |-- OrderID: string (nullable = true)\n |-- OrderDate: date (nullable = true)\n |-- ShipDate: date (nullable = true)\n |-- ShipMode: string (nullable = true)\n |-- CustomerID: string (nullable = true)\n |-- CustomerName: string (nullable = true)\n |-- Segment: string (nullable = true)\n |-- Country: string (nullable = true)\n |-- City: string (nullable = true)\n |-- State: string (nullable = true)\n |-- Postal Code: integer (nullable = true)\n |-- Region: string (nullable = true)\n |-- Product ID: string (nullable = true)\n |-- Category: string (nullable = true)\n |-- SubCategory: string (nullable = true)\n |-- ProductName: string (nullable = true)\n |-- Sales: double (nullable = true)\n |-- Quantity: integer (nullable = true)\n |-- Discount: float (nullable = true)\n |-- Profit: double (nullable = true)\n\n"
     ]
    }
   ],
   "source": [
    "updatedDF.printSchema()"
   ]
  },
  {
   "cell_type": "code",
   "execution_count": 0,
   "metadata": {
    "application/vnd.databricks.v1+cell": {
     "cellMetadata": {
      "byteLimit": 2048000,
      "rowLimit": 10000
     },
     "inputWidgets": {},
     "nuid": "9db0be3d-364e-4f96-a1bb-8c40410d0d3b",
     "showTitle": false,
     "tableResultSettingsMap": {},
     "title": ""
    }
   },
   "outputs": [
    {
     "output_type": "stream",
     "name": "stdout",
     "output_type": "stream",
     "text": [
      "root\n |-- RowID: integer (nullable = true)\n |-- OrderID: string (nullable = true)\n |-- OrderDate: date (nullable = true)\n |-- ShipDate: date (nullable = true)\n |-- ShipMode: string (nullable = true)\n |-- CustomerID: string (nullable = true)\n |-- CustomerName: string (nullable = true)\n |-- Segment: string (nullable = true)\n |-- Country: string (nullable = true)\n |-- City: string (nullable = true)\n |-- State: string (nullable = true)\n |-- Postal Code: integer (nullable = true)\n |-- Region: string (nullable = true)\n |-- Product ID: string (nullable = true)\n |-- Category: string (nullable = true)\n |-- SubCategory: string (nullable = true)\n |-- ProductName: string (nullable = true)\n |-- Sales: double (nullable = true)\n |-- Quantity: integer (nullable = true)\n |-- Discount: float (nullable = true)\n |-- Profit: double (nullable = true)\n |-- OrderYear: integer (nullable = true)\n\n"
     ]
    }
   ],
   "source": [
    "#Add Column - 'OrderYear' from 'Order Date' for further analytical queries\n",
    "resultDF = updatedDF.withColumn(\"OrderYear\",F.year(F.col(\"OrderDate\")))\n",
    "resultDF.printSchema()"
   ]
  },
  {
   "cell_type": "code",
   "execution_count": 0,
   "metadata": {
    "application/vnd.databricks.v1+cell": {
     "cellMetadata": {
      "byteLimit": 2048000,
      "rowLimit": 10000
     },
     "inputWidgets": {},
     "nuid": "b9e6d231-2067-4f25-8aaa-35a7f84fb0d8",
     "showTitle": false,
     "tableResultSettingsMap": {},
     "title": ""
    }
   },
   "outputs": [
    {
     "output_type": "stream",
     "name": "stdout",
     "output_type": "stream",
     "text": [
      "-RECORD 0-------------------------------------------------------------------\n RowID        | 1                                                           \n OrderID      | CA-2016-152156                                              \n OrderDate    | 2016-11-08                                                  \n ShipDate     | 2016-11-11                                                  \n ShipMode     | Second Class                                                \n CustomerID   | CG-12520                                                    \n CustomerName | Claire Gute                                                 \n Segment      | Consumer                                                    \n Country      | United States                                               \n City         | Henderson                                                   \n State        | Kentucky                                                    \n Postal Code  | 42420                                                       \n Region       | South                                                       \n Product ID   | FUR-BO-10001798                                             \n Category     | Furniture                                                   \n SubCategory  | Bookcases                                                   \n ProductName  | Bush Somerset Collection Bookcase                           \n Sales        | 261.96                                                      \n Quantity     | 2                                                           \n Discount     | 0.0                                                         \n Profit       | 41.9136                                                     \n OrderYear    | 2016                                                        \n-RECORD 1-------------------------------------------------------------------\n RowID        | 2                                                           \n OrderID      | CA-2016-152156                                              \n OrderDate    | 2016-11-08                                                  \n ShipDate     | 2016-11-11                                                  \n ShipMode     | Second Class                                                \n CustomerID   | CG-12520                                                    \n CustomerName | Claire Gute                                                 \n Segment      | Consumer                                                    \n Country      | United States                                               \n City         | Henderson                                                   \n State        | Kentucky                                                    \n Postal Code  | 42420                                                       \n Region       | South                                                       \n Product ID   | FUR-CH-10000454                                             \n Category     | Furniture                                                   \n SubCategory  | Chairs                                                      \n ProductName  | Hon Deluxe Fabric Upholstered Stacking Chairs, Rounded Back \n Sales        | 731.94                                                      \n Quantity     | 3                                                           \n Discount     | 0.0                                                         \n Profit       | 219.582                                                     \n OrderYear    | 2016                                                        \nonly showing top 2 rows\n\n"
     ]
    }
   ],
   "source": [
    "resultDF.show(2, truncate=False, vertical=True)"
   ]
  },
  {
   "cell_type": "code",
   "execution_count": 0,
   "metadata": {
    "application/vnd.databricks.v1+cell": {
     "cellMetadata": {
      "byteLimit": 2048000,
      "rowLimit": 10000
     },
     "inputWidgets": {},
     "nuid": "56db0ca3-6029-41fa-ba04-fc8d38c9e21b",
     "showTitle": false,
     "tableResultSettingsMap": {},
     "title": ""
    }
   },
   "outputs": [
    {
     "output_type": "stream",
     "name": "stdout",
     "output_type": "stream",
     "text": [
      "-RECORD 0-----------\n OrderYear   | 2014 \n TotalOrders | 1993 \n-RECORD 1-----------\n OrderYear   | 2015 \n TotalOrders | 2102 \n-RECORD 2-----------\n OrderYear   | 2016 \n TotalOrders | 2587 \n-RECORD 3-----------\n OrderYear   | 2017 \n TotalOrders | 3312 \n\n"
     ]
    }
   ],
   "source": [
    "# display orders by Year\n",
    "resultDF.groupBy(\"OrderYear\") \\\n",
    "    .agg(F.count(\"RowID\").alias(\"TotalOrders\")) \\\n",
    "    .orderBy(\"OrderYear\") \\\n",
    "    .show(20, truncate=False, vertical=True)"
   ]
  },
  {
   "cell_type": "code",
   "execution_count": 0,
   "metadata": {
    "application/vnd.databricks.v1+cell": {
     "cellMetadata": {
      "byteLimit": 2048000,
      "rowLimit": 10000
     },
     "inputWidgets": {},
     "nuid": "5bba3d95-5301-4aa8-95c7-31765ddbc4f0",
     "showTitle": false,
     "tableResultSettingsMap": {},
     "title": ""
    }
   },
   "outputs": [
    {
     "output_type": "stream",
     "name": "stdout",
     "output_type": "stream",
     "text": [
      "+------------------+-----------+\n|CustomerName      |Total_Sales|\n+------------------+-----------+\n|Sean Miller       |25043.05   |\n|Tamara Chand      |19017.85   |\n|Raymond Buch      |15117.34   |\n|Tom Ashbrook      |14595.62   |\n|Adrian Barton     |14355.61   |\n|Sanjit Chand      |14142.33   |\n|Ken Lonsdale      |14071.92   |\n|Hunter Lopez      |12873.3    |\n|Sanjit Engle      |12209.44   |\n|Christopher Conant|12129.07   |\n+------------------+-----------+\nonly showing top 10 rows\n\n"
     ]
    }
   ],
   "source": [
    "# Top 10 customers based on sales\n",
    "resultDF.groupBy(\"CustomerName\") \\\n",
    "        .agg(F.round(F.sum(\"Sales\"), 2).alias(\"Total_Sales\")) \\\n",
    "        .orderBy(F.desc(\"Total_Sales\")) \\\n",
    ".show(10, truncate=False, vertical=False)"
   ]
  },
  {
   "cell_type": "code",
   "execution_count": 0,
   "metadata": {
    "application/vnd.databricks.v1+cell": {
     "cellMetadata": {
      "byteLimit": 2048000,
      "rowLimit": 10000
     },
     "inputWidgets": {},
     "nuid": "39fcdf7c-ad2f-4443-b5b8-a2011e7abb5e",
     "showTitle": false,
     "tableResultSettingsMap": {},
     "title": ""
    }
   },
   "outputs": [
    {
     "output_type": "stream",
     "name": "stdout",
     "output_type": "stream",
     "text": [
      "+------------------------------------------------------------+--------------+\n|ProductName                                                 |Total_Quantity|\n+------------------------------------------------------------+--------------+\n|\"Tennsco Stur-D-Stor Boltless Shelving, 5 Shelves, 24\"\" Deep|4381          |\n|\"Tenex 46\"\" x 60\"\" Computer Anti-Static Chairmat            |2264          |\n|\"Rubbermaid ClusterMat Chairmats, Mat Size- 66\"\" x 60\"\"     |2061          |\n|\"Belkin 19\"\" Vented Equipment Shelf                         |1395          |\n|Wilson Jones Ledger-Size, Piano-Hinge Binder, 2\"            |1209          |\n|\"Tyvek Interoffice Envelopes, 9 1/2\"\" x 12 1/2\"\"            |935           |\n|\"Belkin 19\"\" Center-Weighted Shelf                          |846           |\n|\"Wilson Jones Elliptical Ring 3 1/2\"\" Capacity Binders      |830           |\n|\"Xerox Color Copier Paper, 11\"\" x 17\"\"                      |591           |\n|\"Eldon Delta Triangular Chair Mat, 52\"\" x 58\"\"              |543           |\n+------------------------------------------------------------+--------------+\nonly showing top 10 rows\n\n"
     ]
    }
   ],
   "source": [
    "# Top10 Products based on Quantity\n",
    "\n",
    "resultDF.groupBy(\"ProductName\") \\\n",
    "        .agg(F.round(F.sum(\"Quantity\"), 2).alias(\"Total_Quantity\")) \\\n",
    "        .orderBy(F.desc(\"Total_Quantity\")) \\\n",
    ".show(10, truncate=False, vertical=False)"
   ]
  },
  {
   "cell_type": "code",
   "execution_count": 0,
   "metadata": {
    "application/vnd.databricks.v1+cell": {
     "cellMetadata": {
      "byteLimit": 2048000,
      "rowLimit": 10000
     },
     "inputWidgets": {},
     "nuid": "6c029a65-28da-4460-a0d1-1162b0c568be",
     "showTitle": false,
     "tableResultSettingsMap": {},
     "title": ""
    }
   },
   "outputs": [
    {
     "output_type": "stream",
     "name": "stdout",
     "output_type": "stream",
     "text": [
      "+---------+---------------+-----------+------------+\n|OrderYear|Quarter_Of_Year|Total_Sales|Total_Profit|\n+---------+---------------+-----------+------------+\n|2014     |1              |73807.36   |3622.56     |\n|2014     |2              |86283.22   |11244.38    |\n|2014     |3              |142601.19  |12644.68    |\n|2014     |4              |179072.02  |21549.2     |\n|2015     |1              |68630.68   |9200.96     |\n|2015     |2              |86626.14   |12423.69    |\n|2015     |3              |128609.75  |16747.01    |\n|2015     |4              |180559.67  |23385.27    |\n|2016     |1              |91971.55   |11316.65    |\n|2016     |2              |134672.65  |16191.94    |\n+---------+---------------+-----------+------------+\nonly showing top 10 rows\n\n"
     ]
    }
   ],
   "source": [
    "# What are the total sales, and profit per quarter of every year\n",
    "\n",
    "resultDF.groupBy(\"OrderYear\", \\\n",
    "            F.quarter(\"OrderDate\").alias(\"Quarter_Of_Year\")) \\\n",
    "        .agg(F.round(F.sum(\"Sales\"), 2).alias(\"Total_Sales\"), \\\n",
    "             F.round(F.sum(\"Profit\"), 2).alias(\"Total_Profit\")) \\\n",
    "        .orderBy(\"OrderYear\", \"Quarter_Of_Year\") \\\n",
    ".show(10, truncate=False, vertical=False)"
   ]
  },
  {
   "cell_type": "code",
   "execution_count": 0,
   "metadata": {
    "application/vnd.databricks.v1+cell": {
     "cellMetadata": {
      "byteLimit": 2048000,
      "rowLimit": 10000
     },
     "inputWidgets": {},
     "nuid": "2a4efde6-d9a4-4ebd-8dbc-679eb7bc685f",
     "showTitle": false,
     "tableResultSettingsMap": {},
     "title": ""
    }
   },
   "outputs": [
    {
     "output_type": "stream",
     "name": "stdout",
     "output_type": "stream",
     "text": [
      "+------+------------+\n|Region|Total_Profit|\n+------+------------+\n|West  |107303.7    |\n+------+------------+\nonly showing top 1 row\n\n"
     ]
    }
   ],
   "source": [
    "# which region is the most profitable\n",
    "\n",
    "resultDF.groupBy(\"Region\") \\\n",
    "        .agg(F.round(F.sum(\"Profit\") , 2).alias(\"Total_Profit\")) \\\n",
    "        .orderBy(F.desc(\"Total_Profit\")) \\\n",
    ".show(1, truncate=False, vertical=False)"
   ]
  },
  {
   "cell_type": "code",
   "execution_count": 0,
   "metadata": {
    "application/vnd.databricks.v1+cell": {
     "cellMetadata": {
      "byteLimit": 2048000,
      "rowLimit": 10000
     },
     "inputWidgets": {},
     "nuid": "21d65fe8-e3a3-4a18-af2b-067988b270b9",
     "showTitle": false,
     "tableResultSettingsMap": {},
     "title": ""
    }
   },
   "outputs": [
    {
     "output_type": "stream",
     "name": "stdout",
     "output_type": "stream",
     "text": [
      "+--------------+------------+\n|State         |Total_Profit|\n+--------------+------------+\n|Texas         |-25523.99   |\n|Ohio          |-16591.51   |\n|Pennsylvania  |-15432.48   |\n|Illinois      |-12020.47   |\n|North Carolina|-7475.03    |\n|Colorado      |-6486.08    |\n|Tennessee     |-5275.77    |\n|Florida       |-3378.91    |\n|Arizona       |-3199.77    |\n|Oregon        |-1205.48    |\n+--------------+------------+\nonly showing top 10 rows\n\n"
     ]
    }
   ],
   "source": [
    "# what are the 10 least profitable states\n",
    "\n",
    "resultDF.groupBy(\"State\") \\\n",
    "        .agg(F.round(F.sum(\"Profit\"), 2).alias(\"Total_Profit\")) \\\n",
    "        .orderBy(\"Total_Profit\") \\\n",
    ".show(10, truncate=False, vertical=False)\n"
   ]
  },
  {
   "cell_type": "code",
   "execution_count": 0,
   "metadata": {
    "application/vnd.databricks.v1+cell": {
     "cellMetadata": {
      "byteLimit": 2048000,
      "rowLimit": 10000
     },
     "inputWidgets": {},
     "nuid": "f6f5fb3f-1fdd-4db4-82af-a642dec4e8ba",
     "showTitle": false,
     "tableResultSettingsMap": {},
     "title": ""
    }
   },
   "outputs": [
    {
     "output_type": "stream",
     "name": "stdout",
     "output_type": "stream",
     "text": [
      "+---------------+\n|No_Of_Customers|\n+---------------+\n|793            |\n+---------------+\n\n"
     ]
    }
   ],
   "source": [
    "# how many customers do we have?\n",
    "\n",
    "resultDF.agg(F.countDistinct(\"CustomerID\").alias(\"No_Of_Customers\")) \\\n",
    ".show(1, truncate=False, vertical=False)"
   ]
  },
  {
   "cell_type": "code",
   "execution_count": 0,
   "metadata": {
    "application/vnd.databricks.v1+cell": {
     "cellMetadata": {
      "byteLimit": 2048000,
      "rowLimit": 10000
     },
     "inputWidgets": {},
     "nuid": "880666e0-8ab1-400b-b0c0-91265501b5da",
     "showTitle": false,
     "tableResultSettingsMap": {},
     "title": ""
    }
   },
   "outputs": [
    {
     "output_type": "stream",
     "name": "stdout",
     "output_type": "stream",
     "text": [
      "+--------------+---------------+\n|ShipMode      |Ship_Mode_Count|\n+--------------+---------------+\n|Standard Class|5968           |\n+--------------+---------------+\nonly showing top 1 row\n\n"
     ]
    }
   ],
   "source": [
    "# which is the most used shipped mode \n",
    "\n",
    "resultDF.groupBy(\"ShipMode\") \\\n",
    "        .agg(F.count(\"ShipMode\").alias(\"Ship_Mode_Count\")) \\\n",
    "        .orderBy(F.desc(\"Ship_Mode_Count\")) \\\n",
    ".show(1, truncate=False, vertical=False)"
   ]
  }
 ],
 "metadata": {
  "application/vnd.databricks.v1+notebook": {
   "computePreferences": null,
   "dashboards": [],
   "environmentMetadata": {
    "base_environment": "",
    "environment_version": "1"
   },
   "language": "python",
   "notebookMetadata": {
    "pythonIndentUnit": 4
   },
   "notebookName": "superstore-pyspark-EDA-notebook",
   "widgets": {}
  },
  "language_info": {
   "name": "python"
  }
 },
 "nbformat": 4,
 "nbformat_minor": 0
}